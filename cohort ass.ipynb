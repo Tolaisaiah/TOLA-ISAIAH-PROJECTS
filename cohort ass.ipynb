{
 "cells": [
  {
   "cell_type": "code",
   "execution_count": 4,
   "id": "157a2e55-0484-4d2b-a9f4-a6508aec11bd",
   "metadata": {},
   "outputs": [
    {
     "name": "stdin",
     "output_type": "stream",
     "text": [
      "Enter first number:  5\n",
      "enter second number:  10\n",
      "Enter operation (+,-, *, /):  +\n"
     ]
    },
    {
     "name": "stdout",
     "output_type": "stream",
     "text": [
      "5.0 + 10.0 = 15.0\n"
     ]
    }
   ],
   "source": [
    " # calculator\n",
    " num1 = float(input(\"Enter first number: \"))\n",
    " num2 = float(input(\"enter second number: \"))\n",
    " op = input(\"Enter operation (+,-, *, /): \")\n",
    " if op == \"+\":\n",
    "   result = num1 + num2\n",
    " elif op == \"-\" :\n",
    "    result = num1 - num2\n",
    " elif op == \"*\":\n",
    "    result = num1 * num2\n",
    " elif op == \"/\":\n",
    "    if num2!= 0:\n",
    "        result = num1 / num2\n",
    "    else:\n",
    "        result = \"Error: can't divide by zero!\"\n",
    " print(f\"{num1} {op} {num2} = {result}\")\n",
    "     \n",
    "      \n",
    "\n",
    "             "
   ]
  },
  {
   "cell_type": "code",
   "execution_count": null,
   "id": "8fb606df-4a4d-4f3b-b7c0-c2f9de427fe1",
   "metadata": {},
   "outputs": [],
   "source": []
  },
  {
   "cell_type": "code",
   "execution_count": null,
   "id": "6f3873a2-3200-4fa4-bb94-93e04a8a3c33",
   "metadata": {},
   "outputs": [],
   "source": []
  }
 ],
 "metadata": {
  "kernelspec": {
   "display_name": "Python [conda env:base] *",
   "language": "python",
   "name": "conda-base-py"
  },
  "language_info": {
   "codemirror_mode": {
    "name": "ipython",
    "version": 3
   },
   "file_extension": ".py",
   "mimetype": "text/x-python",
   "name": "python",
   "nbconvert_exporter": "python",
   "pygments_lexer": "ipython3",
   "version": "3.13.5"
  }
 },
 "nbformat": 4,
 "nbformat_minor": 5
}
